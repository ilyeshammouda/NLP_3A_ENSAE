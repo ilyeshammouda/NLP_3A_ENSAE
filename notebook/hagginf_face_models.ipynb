{
 "cells": [
  {
   "cell_type": "code",
   "execution_count": 1,
   "metadata": {},
   "outputs": [
    {
     "name": "stderr",
     "output_type": "stream",
     "text": [
      "2024-04-12 13:57:36.611002: I tensorflow/core/util/port.cc:113] oneDNN custom operations are on. You may see slightly different numerical results due to floating-point round-off errors from different computation orders. To turn them off, set the environment variable `TF_ENABLE_ONEDNN_OPTS=0`.\n",
      "2024-04-12 13:57:36.677428: I tensorflow/core/platform/cpu_feature_guard.cc:210] This TensorFlow binary is optimized to use available CPU instructions in performance-critical operations.\n",
      "To enable the following instructions: AVX2 AVX512F AVX512_VNNI FMA, in other operations, rebuild TensorFlow with the appropriate compiler flags.\n",
      "2024-04-12 13:57:38.073442: W tensorflow/compiler/tf2tensorrt/utils/py_utils.cc:38] TF-TRT Warning: Could not find TensorRT\n"
     ]
    }
   ],
   "source": [
    "from transformers import AutoTokenizer, AutoModelForSequenceClassification, TrainingArguments, Trainer\n",
    "import pandas as pd\n",
    "import torch\n",
    "from sklearn.model_selection import train_test_split\n",
    "from torch.utils.data import DataLoader\n",
    "from transformers import DistilBertForSequenceClassification, AdamW\n",
    "import torch"
   ]
  },
  {
   "cell_type": "markdown",
   "metadata": {},
   "source": [
    "# Télécharger les données"
   ]
  },
  {
   "cell_type": "code",
   "execution_count": 2,
   "metadata": {},
   "outputs": [],
   "source": [
    "data_frame=pd.read_csv(\"/home/onyxia/work/NLP_3A_ENSAE/data_bases/data_cleaned.csv\",sep=\",\")"
   ]
  },
  {
   "cell_type": "code",
   "execution_count": 3,
   "metadata": {},
   "outputs": [
    {
     "data": {
      "text/html": [
       "<div>\n",
       "<style scoped>\n",
       "    .dataframe tbody tr th:only-of-type {\n",
       "        vertical-align: middle;\n",
       "    }\n",
       "\n",
       "    .dataframe tbody tr th {\n",
       "        vertical-align: top;\n",
       "    }\n",
       "\n",
       "    .dataframe thead th {\n",
       "        text-align: right;\n",
       "    }\n",
       "</style>\n",
       "<table border=\"1\" class=\"dataframe\">\n",
       "  <thead>\n",
       "    <tr style=\"text-align: right;\">\n",
       "      <th></th>\n",
       "      <th>Unnamed: 0</th>\n",
       "      <th>sex</th>\n",
       "      <th>first_name</th>\n",
       "      <th>surname</th>\n",
       "    </tr>\n",
       "  </thead>\n",
       "  <tbody>\n",
       "    <tr>\n",
       "      <th>0</th>\n",
       "      <td>0</td>\n",
       "      <td>femme</td>\n",
       "      <td>Marie</td>\n",
       "      <td>Chardon</td>\n",
       "    </tr>\n",
       "    <tr>\n",
       "      <th>1</th>\n",
       "      <td>1</td>\n",
       "      <td>homme</td>\n",
       "      <td>Louis</td>\n",
       "      <td>Lhopital</td>\n",
       "    </tr>\n",
       "    <tr>\n",
       "      <th>2</th>\n",
       "      <td>2</td>\n",
       "      <td>femme</td>\n",
       "      <td>Marie</td>\n",
       "      <td>Pyrin</td>\n",
       "    </tr>\n",
       "    <tr>\n",
       "      <th>3</th>\n",
       "      <td>3</td>\n",
       "      <td>femme</td>\n",
       "      <td>Marie</td>\n",
       "      <td>Lavocat</td>\n",
       "    </tr>\n",
       "    <tr>\n",
       "      <th>4</th>\n",
       "      <td>4</td>\n",
       "      <td>femme</td>\n",
       "      <td>Marguerite</td>\n",
       "      <td>Benne</td>\n",
       "    </tr>\n",
       "  </tbody>\n",
       "</table>\n",
       "</div>"
      ],
      "text/plain": [
       "   Unnamed: 0    sex  first_name   surname\n",
       "0           0  femme       Marie   Chardon\n",
       "1           1  homme       Louis  Lhopital\n",
       "2           2  femme       Marie     Pyrin\n",
       "3           3  femme       Marie   Lavocat\n",
       "4           4  femme  Marguerite     Benne"
      ]
     },
     "execution_count": 3,
     "metadata": {},
     "output_type": "execute_result"
    }
   ],
   "source": [
    "data_frame.head()"
   ]
  },
  {
   "cell_type": "code",
   "execution_count": 4,
   "metadata": {},
   "outputs": [],
   "source": [
    "texts = data_frame['first_name'].tolist()\n",
    "labels = data_frame['sex'].tolist()\n"
   ]
  },
  {
   "cell_type": "markdown",
   "metadata": {},
   "source": [
    "# Télécharger le modèle de Hagging face et manipulation des données pour le fine tuning"
   ]
  },
  {
   "cell_type": "code",
   "execution_count": 5,
   "metadata": {},
   "outputs": [],
   "source": [
    "model_name = \"padmajabfrl/Gender-Classification\"\n",
    "tokenizer = AutoTokenizer.from_pretrained(model_name)\n",
    "model = AutoModelForSequenceClassification.from_pretrained(model_name)"
   ]
  },
  {
   "cell_type": "markdown",
   "metadata": {},
   "source": [
    "## Je split les données en training et testing"
   ]
  },
  {
   "cell_type": "code",
   "execution_count": 6,
   "metadata": {},
   "outputs": [],
   "source": [
    "\n",
    "train_texts, test_texts, train_labels,test_labels = train_test_split(texts, labels, test_size=.2)\n",
    "\n"
   ]
  },
  {
   "cell_type": "code",
   "execution_count": 7,
   "metadata": {},
   "outputs": [],
   "source": [
    "# Je transforme mes données de façon à ce que les femmes soient encodées en 1 et les hommes en 0\n",
    "label_map = {'homme': 0, 'femme': 1}  \n",
    "train_labels = [label_map[label] for label in train_labels]\n",
    "test_labels = [label_map[label] for label in test_labels]"
   ]
  },
  {
   "cell_type": "markdown",
   "metadata": {},
   "source": [
    "Turn the data to Dataset"
   ]
  },
  {
   "cell_type": "code",
   "execution_count": 8,
   "metadata": {},
   "outputs": [],
   "source": [
    "class IMDbDataset(torch.utils.data.Dataset):\n",
    "    def __init__(self, texts, labels, tokenizer, max_length):\n",
    "        self.texts = texts\n",
    "        self.labels = labels\n",
    "        self.tokenizer = tokenizer\n",
    "        self.max_length = max_length\n",
    "\n",
    "    def __getitem__(self, idx):\n",
    "        text = self.texts[idx]\n",
    "        label = self.labels[idx]\n",
    "\n",
    "        encoding = self.tokenizer(text, truncation=True, padding='max_length', max_length=self.max_length, return_tensors='pt')\n",
    "        input_ids = encoding['input_ids'].squeeze(0)\n",
    "        attention_mask = encoding['attention_mask'].squeeze(0)\n",
    "\n",
    "        return {\n",
    "            'input_ids': input_ids,\n",
    "            'attention_mask': attention_mask,\n",
    "            'labels': torch.tensor(label)\n",
    "        }\n",
    "\n",
    "    def __len__(self):\n",
    "        return len(self.labels)\n",
    "\n",
    "\n",
    "train_dataset = IMDbDataset(train_texts, train_labels, tokenizer, max_length=128)\n",
    "test_dataset = IMDbDataset(test_texts, test_labels, tokenizer, max_length=128)\n"
   ]
  },
  {
   "cell_type": "code",
   "execution_count": 9,
   "metadata": {},
   "outputs": [
    {
     "name": "stderr",
     "output_type": "stream",
     "text": [
      "/opt/mamba/lib/python3.11/site-packages/transformers/optimization.py:457: FutureWarning: This implementation of AdamW is deprecated and will be removed in a future version. Use the PyTorch implementation torch.optim.AdamW instead, or set `no_deprecation_warning=True` to disable this warning\n",
      "  warnings.warn(\n"
     ]
    },
    {
     "name": "stdout",
     "output_type": "stream",
     "text": [
      "Epoch 1/100, Loss: 0.4181\n",
      "Epoch 2/100, Loss: 0.1376\n",
      "Epoch 3/100, Loss: 0.0715\n",
      "Epoch 4/100, Loss: 0.0991\n",
      "Epoch 5/100, Loss: 0.0752\n",
      "Epoch 6/100, Loss: 0.0631\n",
      "Epoch 7/100, Loss: 0.0503\n",
      "Epoch 8/100, Loss: 0.0498\n",
      "Epoch 9/100, Loss: 0.0385\n",
      "Epoch 10/100, Loss: 0.0415\n",
      "Epoch 11/100, Loss: 0.0361\n",
      "Epoch 12/100, Loss: 0.0361\n",
      "Epoch 13/100, Loss: 0.0395\n",
      "Epoch 14/100, Loss: 0.0349\n",
      "Epoch 15/100, Loss: 0.0385\n",
      "Epoch 16/100, Loss: 0.0403\n",
      "Epoch 17/100, Loss: 0.0329\n",
      "Epoch 18/100, Loss: 0.0415\n",
      "Epoch 19/100, Loss: 0.0356\n",
      "Epoch 20/100, Loss: 0.0361\n",
      "Epoch 21/100, Loss: 0.0353\n",
      "Epoch 22/100, Loss: 0.0328\n",
      "Epoch 23/100, Loss: 0.0349\n",
      "Epoch 24/100, Loss: 0.0360\n",
      "Epoch 25/100, Loss: 0.0415\n",
      "Epoch 26/100, Loss: 0.0353\n",
      "Epoch 27/100, Loss: 0.0345\n",
      "Epoch 28/100, Loss: 0.0500\n",
      "Epoch 29/100, Loss: 0.0366\n",
      "Epoch 30/100, Loss: 0.0352\n",
      "Epoch 31/100, Loss: 0.0283\n",
      "Epoch 32/100, Loss: 0.0359\n",
      "Epoch 33/100, Loss: 0.0334\n",
      "Epoch 34/100, Loss: 0.0361\n",
      "Epoch 35/100, Loss: 0.0346\n",
      "Epoch 36/100, Loss: 0.0368\n",
      "Epoch 37/100, Loss: 0.0430\n",
      "Epoch 38/100, Loss: 0.0356\n",
      "Epoch 39/100, Loss: 0.0354\n",
      "Epoch 40/100, Loss: 0.0434\n",
      "Epoch 41/100, Loss: 0.0361\n",
      "Epoch 42/100, Loss: 0.0327\n",
      "Epoch 43/100, Loss: 0.0321\n",
      "Epoch 44/100, Loss: 0.0357\n",
      "Epoch 45/100, Loss: 0.0326\n",
      "Epoch 46/100, Loss: 0.0348\n",
      "Epoch 47/100, Loss: 0.0363\n",
      "Epoch 48/100, Loss: 0.0321\n",
      "Epoch 49/100, Loss: 0.0369\n",
      "Epoch 50/100, Loss: 0.0351\n",
      "Epoch 51/100, Loss: 0.0323\n",
      "Epoch 52/100, Loss: 0.0332\n",
      "Epoch 53/100, Loss: 0.0350\n",
      "Epoch 54/100, Loss: 0.0349\n",
      "Epoch 55/100, Loss: 0.0335\n",
      "Epoch 56/100, Loss: 0.0342\n",
      "Epoch 57/100, Loss: 0.0296\n",
      "Epoch 58/100, Loss: 0.0341\n",
      "Epoch 59/100, Loss: 0.0315\n",
      "Epoch 60/100, Loss: 0.0321\n",
      "Epoch 61/100, Loss: 0.0352\n",
      "Epoch 62/100, Loss: 0.0322\n",
      "Epoch 63/100, Loss: 0.0325\n",
      "Epoch 64/100, Loss: 0.0362\n",
      "Epoch 65/100, Loss: 0.0335\n",
      "Epoch 66/100, Loss: 0.0332\n",
      "Epoch 67/100, Loss: 0.0353\n",
      "Epoch 68/100, Loss: 0.0493\n",
      "Epoch 69/100, Loss: 0.0326\n",
      "Epoch 70/100, Loss: 0.0354\n",
      "Epoch 71/100, Loss: 0.0320\n",
      "Epoch 72/100, Loss: 0.0323\n",
      "Epoch 73/100, Loss: 0.0351\n",
      "Epoch 74/100, Loss: 0.0328\n",
      "Epoch 75/100, Loss: 0.0319\n",
      "Epoch 76/100, Loss: 0.0370\n",
      "Epoch 77/100, Loss: 0.0319\n",
      "Epoch 78/100, Loss: 0.0357\n",
      "Epoch 79/100, Loss: 0.0322\n",
      "Epoch 80/100, Loss: 0.0354\n",
      "Epoch 81/100, Loss: 0.0338\n",
      "Epoch 82/100, Loss: 0.0329\n",
      "Epoch 83/100, Loss: 0.0328\n",
      "Epoch 84/100, Loss: 0.0338\n",
      "Epoch 85/100, Loss: 0.0361\n",
      "Epoch 86/100, Loss: 0.0344\n",
      "Epoch 87/100, Loss: 0.0320\n",
      "Epoch 88/100, Loss: 0.0331\n",
      "Epoch 89/100, Loss: 0.0323\n",
      "Epoch 90/100, Loss: 0.0346\n",
      "Epoch 91/100, Loss: 0.0331\n",
      "Epoch 92/100, Loss: 0.0333\n",
      "Epoch 93/100, Loss: 0.0344\n",
      "Epoch 94/100, Loss: 0.0342\n",
      "Epoch 95/100, Loss: 0.0337\n",
      "Epoch 96/100, Loss: 0.0330\n",
      "Epoch 97/100, Loss: 0.0315\n",
      "Epoch 98/100, Loss: 0.0346\n",
      "Epoch 99/100, Loss: 0.0342\n",
      "Epoch 100/100, Loss: 0.0361\n"
     ]
    },
    {
     "data": {
      "text/plain": [
       "DistilBertForSequenceClassification(\n",
       "  (distilbert): DistilBertModel(\n",
       "    (embeddings): Embeddings(\n",
       "      (word_embeddings): Embedding(30522, 768, padding_idx=0)\n",
       "      (position_embeddings): Embedding(512, 768)\n",
       "      (LayerNorm): LayerNorm((768,), eps=1e-12, elementwise_affine=True)\n",
       "      (dropout): Dropout(p=0.1, inplace=False)\n",
       "    )\n",
       "    (transformer): Transformer(\n",
       "      (layer): ModuleList(\n",
       "        (0-5): 6 x TransformerBlock(\n",
       "          (attention): MultiHeadSelfAttention(\n",
       "            (dropout): Dropout(p=0.1, inplace=False)\n",
       "            (q_lin): Linear(in_features=768, out_features=768, bias=True)\n",
       "            (k_lin): Linear(in_features=768, out_features=768, bias=True)\n",
       "            (v_lin): Linear(in_features=768, out_features=768, bias=True)\n",
       "            (out_lin): Linear(in_features=768, out_features=768, bias=True)\n",
       "          )\n",
       "          (sa_layer_norm): LayerNorm((768,), eps=1e-12, elementwise_affine=True)\n",
       "          (ffn): FFN(\n",
       "            (dropout): Dropout(p=0.1, inplace=False)\n",
       "            (lin1): Linear(in_features=768, out_features=3072, bias=True)\n",
       "            (lin2): Linear(in_features=3072, out_features=768, bias=True)\n",
       "            (activation): GELUActivation()\n",
       "          )\n",
       "          (output_layer_norm): LayerNorm((768,), eps=1e-12, elementwise_affine=True)\n",
       "        )\n",
       "      )\n",
       "    )\n",
       "  )\n",
       "  (pre_classifier): Linear(in_features=768, out_features=768, bias=True)\n",
       "  (classifier): Linear(in_features=768, out_features=2, bias=True)\n",
       "  (dropout): Dropout(p=0.2, inplace=False)\n",
       ")"
      ]
     },
     "execution_count": 9,
     "metadata": {},
     "output_type": "execute_result"
    }
   ],
   "source": [
    "\n",
    "\n",
    "num_epochs=100\n",
    "device = torch.device('cuda') if torch.cuda.is_available() else torch.device('cpu')\n",
    "\n",
    "# Define your model\n",
    "model = DistilBertForSequenceClassification.from_pretrained('padmajabfrl/Gender-Classification')\n",
    "model.to(device)\n",
    "model.train()\n",
    "\n",
    "# Define your optimizer\n",
    "optimizer = AdamW(model.parameters(), lr=5e-5)\n",
    "\n",
    "# Define your DataLoader\n",
    "train_loader = DataLoader(train_dataset, batch_size=16, shuffle=True)\n",
    "\n",
    "# Training loop\n",
    "for epoch in range(num_epochs):\n",
    "    total_loss = 0\n",
    "    for batch in train_loader:\n",
    "        input_ids = batch['input_ids'].to(device)\n",
    "        attention_mask = batch['attention_mask'].to(device)\n",
    "        labels = batch['labels'].to(device)\n",
    "\n",
    "        optimizer.zero_grad()\n",
    "        outputs = model(input_ids, attention_mask=attention_mask, labels=labels)\n",
    "        loss = outputs.loss\n",
    "        loss.backward()\n",
    "        optimizer.step()\n",
    "\n",
    "        total_loss += loss.item()\n",
    "\n",
    "    average_loss = total_loss / len(train_loader)\n",
    "    print(f'Epoch {epoch + 1}/{num_epochs}, Loss: {average_loss:.4f}')\n",
    "\n",
    "# Evaluation\n",
    "model.eval()\n",
    "# Define your evaluation loop if needed\n"
   ]
  },
  {
   "cell_type": "code",
   "execution_count": 10,
   "metadata": {},
   "outputs": [
    {
     "name": "stdout",
     "output_type": "stream",
     "text": [
      "Predicted label: femme\n"
     ]
    }
   ],
   "source": [
    "from transformers import DistilBertTokenizerFast, DistilBertForSequenceClassification\n",
    "import torch\n",
    "\n",
    "# Load tokenizer and model\n",
    "tokenizer = DistilBertTokenizerFast.from_pretrained('distilbert-base-uncased')\n",
    "model = DistilBertForSequenceClassification.from_pretrained('padmajabfrl/Gender-Classification')\n",
    "\n",
    "# Example input text\n",
    "input_text = \"Camille\"\n",
    "\n",
    "# Step 1: Tokenize the input text\n",
    "inputs = tokenizer(input_text, return_tensors='pt')\n",
    "\n",
    "# Step 2: Perform inference\n",
    "with torch.no_grad():\n",
    "    outputs = model(**inputs)\n",
    "\n",
    "# Step 3: Get predictions\n",
    "predictions = torch.argmax(outputs.logits, dim=1)\n",
    "\n",
    "# Convert predictions to human-readable labels\n",
    "label_map = {0: 'homme', 1: 'femme'}  # Define your label mapping\n",
    "predicted_label = label_map[predictions.item()]\n",
    "\n",
    "print(\"Predicted label:\", predicted_label)\n"
   ]
  },
  {
   "cell_type": "code",
   "execution_count": null,
   "metadata": {},
   "outputs": [],
   "source": []
  }
 ],
 "metadata": {
  "kernelspec": {
   "display_name": "base",
   "language": "python",
   "name": "python3"
  },
  "language_info": {
   "codemirror_mode": {
    "name": "ipython",
    "version": 3
   },
   "file_extension": ".py",
   "mimetype": "text/x-python",
   "name": "python",
   "nbconvert_exporter": "python",
   "pygments_lexer": "ipython3",
   "version": "3.11.6"
  }
 },
 "nbformat": 4,
 "nbformat_minor": 2
}
