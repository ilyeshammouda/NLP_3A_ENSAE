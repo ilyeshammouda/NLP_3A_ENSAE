{
 "cells": [
  {
   "cell_type": "code",
   "execution_count": 1,
   "metadata": {},
   "outputs": [
    {
     "name": "stderr",
     "output_type": "stream",
     "text": [
      "2024-04-13 16:12:04.264643: I tensorflow/core/util/port.cc:113] oneDNN custom operations are on. You may see slightly different numerical results due to floating-point round-off errors from different computation orders. To turn them off, set the environment variable `TF_ENABLE_ONEDNN_OPTS=0`.\n",
      "2024-04-13 16:12:04.354658: I tensorflow/core/platform/cpu_feature_guard.cc:210] This TensorFlow binary is optimized to use available CPU instructions in performance-critical operations.\n",
      "To enable the following instructions: AVX2 AVX512F AVX512_VNNI FMA, in other operations, rebuild TensorFlow with the appropriate compiler flags.\n",
      "2024-04-13 16:12:05.592182: W tensorflow/compiler/tf2tensorrt/utils/py_utils.cc:38] TF-TRT Warning: Could not find TensorRT\n"
     ]
    }
   ],
   "source": [
    "from transformers import AutoTokenizer, AutoModelForSequenceClassification, TrainingArguments, Trainer\n",
    "import pandas as pd\n",
    "import torch\n",
    "from sklearn.model_selection import train_test_split\n",
    "from torch.utils.data import DataLoader\n",
    "from transformers import DistilBertForSequenceClassification, AdamW\n",
    "from torch.utils.data import DataLoader\n",
    "from sklearn.metrics import accuracy_score, classification_report,confusion_matrix, roc_curve, roc_auc_score, precision_recall_curve, auc\n",
    "import numpy as np\n",
    "import matplotlib.pyplot as plt\n"
   ]
  },
  {
   "cell_type": "markdown",
   "metadata": {},
   "source": [
    "# Télécharger les données"
   ]
  },
  {
   "cell_type": "code",
   "execution_count": 2,
   "metadata": {},
   "outputs": [],
   "source": [
    "data_frame=pd.read_csv(\"/home/onyxia/work/NLP_3A_ENSAE/data_bases/data_cleaned.csv\",sep=\",\")"
   ]
  },
  {
   "cell_type": "code",
   "execution_count": 3,
   "metadata": {},
   "outputs": [
    {
     "data": {
      "text/html": [
       "<div>\n",
       "<style scoped>\n",
       "    .dataframe tbody tr th:only-of-type {\n",
       "        vertical-align: middle;\n",
       "    }\n",
       "\n",
       "    .dataframe tbody tr th {\n",
       "        vertical-align: top;\n",
       "    }\n",
       "\n",
       "    .dataframe thead th {\n",
       "        text-align: right;\n",
       "    }\n",
       "</style>\n",
       "<table border=\"1\" class=\"dataframe\">\n",
       "  <thead>\n",
       "    <tr style=\"text-align: right;\">\n",
       "      <th></th>\n",
       "      <th>Unnamed: 0</th>\n",
       "      <th>sex</th>\n",
       "      <th>first_name</th>\n",
       "      <th>surname</th>\n",
       "    </tr>\n",
       "  </thead>\n",
       "  <tbody>\n",
       "    <tr>\n",
       "      <th>0</th>\n",
       "      <td>0</td>\n",
       "      <td>femme</td>\n",
       "      <td>Marie</td>\n",
       "      <td>Chardon</td>\n",
       "    </tr>\n",
       "    <tr>\n",
       "      <th>1</th>\n",
       "      <td>1</td>\n",
       "      <td>homme</td>\n",
       "      <td>Louis</td>\n",
       "      <td>Lhopital</td>\n",
       "    </tr>\n",
       "    <tr>\n",
       "      <th>2</th>\n",
       "      <td>2</td>\n",
       "      <td>femme</td>\n",
       "      <td>Marie</td>\n",
       "      <td>Pyrin</td>\n",
       "    </tr>\n",
       "    <tr>\n",
       "      <th>3</th>\n",
       "      <td>3</td>\n",
       "      <td>femme</td>\n",
       "      <td>Marie</td>\n",
       "      <td>Lavocat</td>\n",
       "    </tr>\n",
       "    <tr>\n",
       "      <th>4</th>\n",
       "      <td>4</td>\n",
       "      <td>femme</td>\n",
       "      <td>Marguerite</td>\n",
       "      <td>Benne</td>\n",
       "    </tr>\n",
       "  </tbody>\n",
       "</table>\n",
       "</div>"
      ],
      "text/plain": [
       "   Unnamed: 0    sex  first_name   surname\n",
       "0           0  femme       Marie   Chardon\n",
       "1           1  homme       Louis  Lhopital\n",
       "2           2  femme       Marie     Pyrin\n",
       "3           3  femme       Marie   Lavocat\n",
       "4           4  femme  Marguerite     Benne"
      ]
     },
     "execution_count": 3,
     "metadata": {},
     "output_type": "execute_result"
    }
   ],
   "source": [
    "data_frame.head()"
   ]
  },
  {
   "cell_type": "code",
   "execution_count": 4,
   "metadata": {},
   "outputs": [],
   "source": [
    "texts = data_frame['first_name'].tolist()\n",
    "labels = data_frame['sex'].tolist()\n"
   ]
  },
  {
   "cell_type": "markdown",
   "metadata": {},
   "source": [
    "# Télécharger le modèle de Hagging face et manipulation des données pour le fine tuning"
   ]
  },
  {
   "cell_type": "code",
   "execution_count": 5,
   "metadata": {},
   "outputs": [],
   "source": [
    "model_name = \"padmajabfrl/Gender-Classification\"\n",
    "tokenizer = AutoTokenizer.from_pretrained(model_name)\n",
    "model = AutoModelForSequenceClassification.from_pretrained(model_name)"
   ]
  },
  {
   "cell_type": "markdown",
   "metadata": {},
   "source": [
    "## Je split les données en training et testing"
   ]
  },
  {
   "cell_type": "code",
   "execution_count": 6,
   "metadata": {},
   "outputs": [],
   "source": [
    "\n",
    "train_texts, test_texts, train_labels,test_labels = train_test_split(texts, labels, test_size=.2)\n",
    "\n"
   ]
  },
  {
   "cell_type": "code",
   "execution_count": 7,
   "metadata": {},
   "outputs": [],
   "source": [
    "# Je transforme mes données de façon à ce que les femmes soient encodées en 1 et les hommes en 0\n",
    "label_map = {'homme': 0, 'femme': 1}  \n",
    "train_labels = [label_map[label] for label in train_labels]\n",
    "test_labels = [label_map[label] for label in test_labels]"
   ]
  },
  {
   "cell_type": "markdown",
   "metadata": {},
   "source": [
    "Turn the data to Dataset"
   ]
  },
  {
   "cell_type": "code",
   "execution_count": 8,
   "metadata": {},
   "outputs": [],
   "source": [
    "class IMDbDataset(torch.utils.data.Dataset):\n",
    "    def __init__(self, texts, labels, tokenizer, max_length):\n",
    "        self.texts = texts\n",
    "        self.labels = labels\n",
    "        self.tokenizer = tokenizer\n",
    "        self.max_length = max_length\n",
    "\n",
    "    def __getitem__(self, idx):\n",
    "        text = self.texts[idx]\n",
    "        label = self.labels[idx]\n",
    "\n",
    "        encoding = self.tokenizer(text, truncation=True, padding='max_length', max_length=self.max_length, return_tensors='pt')\n",
    "        input_ids = encoding['input_ids'].squeeze(0)\n",
    "        attention_mask = encoding['attention_mask'].squeeze(0)\n",
    "\n",
    "        return {\n",
    "            'input_ids': input_ids,\n",
    "            'attention_mask': attention_mask,\n",
    "            'labels': torch.tensor(label)\n",
    "        }\n",
    "\n",
    "    def __len__(self):\n",
    "        return len(self.labels)\n",
    "\n",
    "\n",
    "train_dataset = IMDbDataset(train_texts, train_labels, tokenizer, max_length=128)\n",
    "test_dataset = IMDbDataset(test_texts, test_labels, tokenizer, max_length=128)\n"
   ]
  },
  {
   "cell_type": "code",
   "execution_count": 22,
   "metadata": {},
   "outputs": [],
   "source": [
    "class GenderClassifier:\n",
    "    def __init__(self, model_name='padmajabfrl/Gender-Classification'):\n",
    "        self.model = DistilBertForSequenceClassification.from_pretrained(model_name)\n",
    "        self.tokenizer = AutoTokenizer.from_pretrained(model_name)\n",
    "        self.device = torch.device('cuda') if torch.cuda.is_available() else torch.device('cpu')\n",
    "\n",
    "    def train(self, train_dataset, num_epochs=10, batch_size=16, learning_rate=5e-5):\n",
    "        self.model.to(self.device)\n",
    "        self.model.train()\n",
    "        optimizer = torch.optim.AdamW (self.model.parameters(), lr=learning_rate)\n",
    "        train_loader = DataLoader(train_dataset, batch_size=batch_size, shuffle=True)\n",
    "\n",
    "        for epoch in range(num_epochs):\n",
    "            total_loss = 0\n",
    "            for batch in train_loader:\n",
    "                input_ids = batch['input_ids'].to(self.device)\n",
    "                attention_mask = batch['attention_mask'].to(self.device)\n",
    "                labels = batch['labels'].to(self.device)\n",
    "\n",
    "                optimizer.zero_grad()\n",
    "                outputs = self.model(input_ids, attention_mask=attention_mask, labels=labels)\n",
    "                loss = outputs.loss\n",
    "                loss.backward()\n",
    "                optimizer.step()\n",
    "\n",
    "                total_loss += loss.item()\n",
    "\n",
    "            average_loss = total_loss / len(train_loader)\n",
    "            print(f'Epoch {epoch + 1}/{num_epochs}, Loss: {average_loss:.4f}')\n",
    "\n",
    "        self.model.eval()\n",
    "\n",
    "    def predict(self, input_text):\n",
    "        inputs = self.tokenizer(input_text, return_tensors='pt')\n",
    "        inputs = {key: val.to(self.device) for key, val in inputs.items()}\n",
    "\n",
    "        with torch.no_grad():\n",
    "            outputs = self.model(**inputs)\n",
    "\n",
    "        predictions = torch.argmax(outputs.logits, dim=1).item()\n",
    "        label_map = {0: 'homme', 1: 'femme'}\n",
    "        predicted_label = label_map[predictions]\n",
    "\n",
    "        return predicted_label\n",
    "    \n",
    "    def evaluate(self,test_dataset, batch_size=16,conf_matrix=False,Roc_curve=False,pr_curve=False,thresholds=False):\n",
    "        self.model.eval()\n",
    "        all_probs = []\n",
    "        true_labels = []\n",
    "        predicted_labels = []\n",
    "        test_loader = DataLoader(test_dataset, batch_size=batch_size, shuffle=True)\n",
    "        for batch in test_loader:\n",
    "            input_ids = batch['input_ids'].to(classifier.device)\n",
    "            attention_mask = batch['attention_mask'].to(classifier.device)\n",
    "            labels = batch['labels']\n",
    "\n",
    "            with torch.no_grad():\n",
    "                outputs = classifier.model(input_ids, attention_mask=attention_mask)\n",
    "\n",
    "            predictions = torch.argmax(outputs.logits, dim=1).cpu().numpy()\n",
    "\n",
    "\n",
    "            # Metrics calculation for visualization\n",
    "            if Roc_curve or pr_curve:\n",
    "                probs = torch.softmax(outputs.logits, dim=1)\n",
    "                all_probs.extend(probs[:, 1].cpu().numpy())\n",
    "                \n",
    "\n",
    "\n",
    "            true_labels.extend(labels)\n",
    "            predicted_labels.extend(predictions)\n",
    "        true_labels = np.array(true_labels)\n",
    "\n",
    "        predicted_labels = np.array(predicted_labels)\n",
    "        accuracy = accuracy_score(true_labels, predicted_labels)\n",
    "        report = classification_report(true_labels, predicted_labels)\n",
    "        print(f\"The model's accuracy on the testing dataset is: {accuracy}. \\n The model's performance report on the testing dataset is the following :\\n {report}\")\n",
    "\n",
    "        # Plotting some intersting metrics about the classifier\n",
    "\n",
    "        #Confucion matrix\n",
    "\n",
    "        if conf_matrix:\n",
    "            print(\"Find bellow the Confusion Matrix\")\n",
    "            conf_matrix = confusion_matrix(true_labels, predicted_labels)\n",
    "            plt.figure(figsize=(8, 6))\n",
    "            plt.imshow(conf_matrix, cmap='Blues', interpolation='nearest')\n",
    "            plt.colorbar()\n",
    "            plt.title('Confusion Matrix')\n",
    "            plt.xlabel('Predicted Label')\n",
    "            plt.ylabel('True Label')\n",
    "            plt.xticks([0, 1], ['homme', 'femme'])\n",
    "            plt.yticks([0, 1], ['homme', 'femme'])\n",
    "            plt.show()\n",
    "        \n",
    "        #ROC Curve\n",
    "\n",
    "        elif Roc_curve:\n",
    "            print(\"Find bellow the ROC Curve\")\n",
    "            fpr, tpr, _ = roc_curve(true_labels, all_probs)\n",
    "            roc_auc = auc(fpr, tpr)\n",
    "\n",
    "            plt.figure()\n",
    "            plt.plot(fpr, tpr, color='darkorange', lw=2, label='ROC curve (area = %0.2f)' % roc_auc)\n",
    "            plt.plot([0, 1], [0, 1], color='navy', lw=2, linestyle='--')\n",
    "            plt.xlim([0.0, 1.0])\n",
    "            plt.ylim([0.0, 1.05])\n",
    "            plt.xlabel('False Positive Rate')\n",
    "            plt.ylabel('True Positive Rate')\n",
    "            plt.title('Receiver Operating Characteristic (ROC) Curve')\n",
    "            plt.legend(loc=\"lower right\")\n",
    "            plt.show()\n",
    "\n",
    "        \n",
    "        #Precision-Recall Curve\n",
    "\n",
    "        elif pr_curve:\n",
    "            print(\"Find bellow the Precision-Recall Curve\")\n",
    "            precision, recall, _ = precision_recall_curve(true_labels, all_probs)\n",
    "            pr_auc = auc(recall, precision)\n",
    "\n",
    "            plt.figure()\n",
    "            plt.plot(recall, precision, color='blue', lw=2, label='Precision-Recall curve (area = %0.2f)' % pr_auc)\n",
    "            plt.xlabel('Recall')\n",
    "            plt.ylabel('Precision')\n",
    "            plt.title('Precision-Recall Curve')\n",
    "            plt.legend(loc=\"lower left\")\n",
    "            plt.show()\n",
    "\n",
    "\n",
    "        #Accuracy\n",
    "\n",
    "        elif thresholds:\n",
    "            print(\"Find bellow. the Accuracy vs Threshold\")\n",
    "            thresholds = np.linspace(0, 1, 100)\n",
    "            accuracies = [accuracy_score(true_labels, predicted_labels > threshold) for threshold in thresholds]\n",
    "            plt.plot(thresholds, accuracies)\n",
    "            plt.xlabel('Threshold')\n",
    "            plt.ylabel('Accuracy')\n",
    "            plt.title('Accuracy vs. Threshold')\n",
    "            plt.show()\n",
    "\n",
    "        \n",
    "        \n",
    "\n",
    "    "
   ]
  },
  {
   "cell_type": "code",
   "execution_count": 23,
   "metadata": {},
   "outputs": [
    {
     "name": "stdout",
     "output_type": "stream",
     "text": [
      "Epoch 1/1, Loss: 0.5097\n"
     ]
    }
   ],
   "source": [
    "# Training\n",
    "classifier = GenderClassifier()\n",
    "classifier.train(train_dataset,num_epochs=1)  # Assuming train_dataset is already defined\n"
   ]
  },
  {
   "cell_type": "code",
   "execution_count": 24,
   "metadata": {},
   "outputs": [
    {
     "name": "stdout",
     "output_type": "stream",
     "text": [
      "Predicted label: femme\n"
     ]
    }
   ],
   "source": [
    "# Prediction\n",
    "prediction = classifier.predict(\"Francoise\")\n",
    "print(f'Predicted label: {prediction}')"
   ]
  },
  {
   "cell_type": "code",
   "execution_count": 27,
   "metadata": {},
   "outputs": [
    {
     "name": "stdout",
     "output_type": "stream",
     "text": [
      "The model's accuracy on the testing dataset is: 0.8723404255319149. \n",
      " The model's performance report on the testing dataset is the following :\n",
      "               precision    recall  f1-score   support\n",
      "\n",
      "           0       0.96      0.82      0.88        28\n",
      "           1       0.78      0.95      0.86        19\n",
      "\n",
      "    accuracy                           0.87        47\n",
      "   macro avg       0.87      0.88      0.87        47\n",
      "weighted avg       0.89      0.87      0.87        47\n",
      "\n",
      "Find bellow. the Accuracy vs Threshold\n"
     ]
    },
    {
     "data": {
      "image/png": "[encoded data removed]",
      "text/plain": [
       "<Figure size 640x480 with 1 Axes>"
      ]
     },
     "metadata": {},
     "output_type": "display_data"
    }
   ],
   "source": [
    "classifier.evaluate(test_dataset,thresholds=True)"
   ]
  }
 ],
 "metadata": {
  "kernelspec": {
   "display_name": "base",
   "language": "python",
   "name": "python3"
  },
  "language_info": {
   "codemirror_mode": {
    "name": "ipython",
    "version": 3
   },
   "file_extension": ".py",
   "mimetype": "text/x-python",
   "name": "python",
   "nbconvert_exporter": "python",
   "pygments_lexer": "ipython3",
   "version": "3.11.6"
  }
 },
 "nbformat": 4,
 "nbformat_minor": 2
}
